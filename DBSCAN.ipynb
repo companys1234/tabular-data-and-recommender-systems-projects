{
  "nbformat": 4,
  "nbformat_minor": 0,
  "metadata": {
    "colab": {
      "provenance": []
    },
    "kernelspec": {
      "name": "python3",
      "display_name": "Python 3"
    },
    "language_info": {
      "name": "python"
    }
  },
  "cells": [
    {
      "cell_type": "code",
      "execution_count": 3,
      "metadata": {
        "colab": {
          "base_uri": "https://localhost:8080/"
        },
        "id": "XWyaX5FXs-3l",
        "outputId": "a7774d65-eb7f-474a-8c72-9d09c59d13dd"
      },
      "outputs": [
        {
          "output_type": "stream",
          "name": "stdout",
          "text": [
            "Метки кластеров для пользователей: [ 0  0  1 -1  1]\n"
          ]
        }
      ],
      "source": [
        "import torch\n",
        "import numpy as np\n",
        "from sklearn.cluster import DBSCAN\n",
        "\n",
        "# Пример данных: матрица оценок пользователей\n",
        "# Строки - пользователи, столбцы - объекты\n",
        "ratings = torch.tensor([\n",
        "    [5, 3, 0, 1],  # Пользователь 0\n",
        "    [4, 0, 0, 1],  # Пользователь 1\n",
        "    [5, 1, 3, 5],  # Пользователь 2\n",
        "    [1, 0, 0, 4],  # Пользователь 3\n",
        "    [0, 1, 5, 4],  # Пользователь 4\n",
        "], dtype=torch.float32)\n",
        "\n",
        "# Заменяем 0 на NaN (отсутствующие значения)\n",
        "ratings[ratings == 0] = float('nan')\n",
        "\n",
        "# Заполняем пропущенные значения средним по столбцам\n",
        "mean_ratings = torch.nanmean(ratings, dim=0, keepdim=True)\n",
        "ratings_filled = torch.where(torch.isnan(ratings), mean_ratings, ratings)\n",
        "\n",
        "# Вычисляем попарные расстояния между пользователями\n",
        "def pairwise_distances(X):\n",
        "    # Используем евклидово расстояние\n",
        "    return torch.cdist(X, X, p=2)\n",
        "\n",
        "# Вычисляем матрицу расстояний\n",
        "distances = pairwise_distances(ratings_filled)\n",
        "\n",
        "# Преобразуем расстояния в формат numpy для использования в DBSCAN\n",
        "distances_np = distances.numpy()\n",
        "\n",
        "# Применяем DBSCAN\n",
        "dbscan = DBSCAN(eps=3.0, min_samples=2, metric=\"precomputed\")\n",
        "labels = dbscan.fit_predict(distances_np)\n",
        "\n",
        "# Выводим результаты\n",
        "print(\"Метки кластеров для пользователей:\", labels)"
      ]
    },
    {
      "cell_type": "markdown",
      "source": [
        "Пользователи 0 и 1 находятся в одном кластере (метка 0).\n",
        "\n",
        "Пользователи 2 и 4 находятся в другом кластере (метка 1).\n",
        "\n",
        "Пользователь 3 считается шумом (метка -1), так как его оценки не соответствуют ни одному из кластеров.\n",
        "\n",
        "\n"
      ],
      "metadata": {
        "id": "qyaBGlnbukb3"
      }
    }
  ]
}