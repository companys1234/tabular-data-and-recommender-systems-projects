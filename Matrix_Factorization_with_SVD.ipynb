{
  "nbformat": 4,
  "nbformat_minor": 0,
  "metadata": {
    "colab": {
      "provenance": []
    },
    "kernelspec": {
      "name": "python3",
      "display_name": "Python 3"
    },
    "language_info": {
      "name": "python"
    }
  },
  "cells": [
    {
      "cell_type": "code",
      "execution_count": 4,
      "metadata": {
        "colab": {
          "base_uri": "https://localhost:8080/"
        },
        "id": "TO1MSdyfifft",
        "outputId": "5c8848ae-a983-42ae-b709-af6164205cd0"
      },
      "outputs": [
        {
          "output_type": "stream",
          "name": "stdout",
          "text": [
            "Исходная матрица оценок:\n",
            "[[ 5.  3. nan  1.]\n",
            " [ 4. nan nan  1.]\n",
            " [ 1.  1. nan  5.]\n",
            " [ 1. nan nan  4.]\n",
            " [nan  1.  5.  4.]]\n",
            "Нормализованная матрица оценок:\n",
            "[[4.7881284  1.9208775  4.9979835  0.        ]\n",
            " [3.6899142  1.4327601  4.369566   0.41522738]\n",
            " [0.10511606 0.16063587 4.7959895  4.7117853 ]\n",
            " [0.6310522  0.32166305 4.535872   3.8469155 ]\n",
            " [1.6461325  0.7576999  5.         3.3245695 ]]\n"
          ]
        }
      ],
      "source": [
        "import numpy as np\n",
        "from sklearn.decomposition import TruncatedSVD\n",
        "\n",
        "# Пример данных: матрица взаимодействий пользователей и объектов\n",
        "# Строки - пользователи, столбцы - объекты\n",
        "# 0 означает, что оценка отсутствует\n",
        "ratings = np.array([\n",
        "    [5, 3, 0, 1],\n",
        "    [4, 0, 0, 1],\n",
        "    [1, 1, 0, 5],\n",
        "    [1, 0, 0, 4],\n",
        "    [0, 1, 5, 4],\n",
        "], dtype=np.float32)\n",
        "\n",
        "# Заменяем 0 на NaN (отсутствующие значения)\n",
        "ratings[ratings == 0] = np.nan\n",
        "\n",
        "# Заполняем пропущенные значения средним по столбцам\n",
        "mean_ratings = np.nanmean(ratings, axis=0)\n",
        "ratings_filled = np.where(np.isnan(ratings), mean_ratings, ratings)\n",
        "\n",
        "# Применяем сингулярное разложение (SVD)\n",
        "n_components = 2  # Количество латентных факторов\n",
        "svd = TruncatedSVD(n_components=n_components)\n",
        "P = svd.fit_transform(ratings_filled)  # Матрица пользователей\n",
        "Q = svd.components_.T  # Матрица объектов\n",
        "\n",
        "# Восстанавливаем матрицу оценок\n",
        "predicted_ratings = np.dot(P, Q.T)\n",
        "\n",
        "print(\"Исходная матрица оценок:\")\n",
        "print(ratings)\n",
        "\n",
        "def normalize_ratings(ratings):\n",
        "    min_score = np.min(ratings)  # Минимальное значение в матрице\n",
        "    max_score = np.max(ratings)  # Максимальное значение в матрице\n",
        "    # Линейное масштабирование\n",
        "    normalized_ratings = (ratings - min_score) * 5 / (max_score - min_score)\n",
        "    return normalized_ratings\n",
        "# Нормализация предсказанной матрицы\n",
        "normalized_ratings = normalize_ratings(predicted_ratings)\n",
        "print(\"Нормализованная матрица оценок:\")\n",
        "print(normalized_ratings)"
      ]
    }
  ]
}