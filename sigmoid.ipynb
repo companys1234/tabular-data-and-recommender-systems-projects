{
  "nbformat": 4,
  "nbformat_minor": 0,
  "metadata": {
    "colab": {
      "provenance": []
    },
    "kernelspec": {
      "name": "python3",
      "display_name": "Python 3"
    },
    "language_info": {
      "name": "python"
    }
  },
  "cells": [
    {
      "cell_type": "markdown",
      "source": [
        "sigmoid"
      ],
      "metadata": {
        "id": "N6-ojLgvFZrR"
      }
    },
    {
      "cell_type": "code",
      "execution_count": null,
      "metadata": {
        "colab": {
          "base_uri": "https://localhost:8080/"
        },
        "id": "UEtHGL9-Dl8H",
        "outputId": "0d3caef8-0ecf-4d00-c17f-1ab66fd9034d"
      },
      "outputs": [
        {
          "output_type": "stream",
          "name": "stdout",
          "text": [
            "1000\n",
            "1.0\n"
          ]
        }
      ],
      "source": [
        "import math\n",
        "\n",
        "def sigmoid(x):\n",
        "    if x >= 0:\n",
        "        z = math.exp(-x)\n",
        "        sig = 1 / (1 + z)\n",
        "    else:\n",
        "        z = math.exp(x)\n",
        "        sig = z / (1 + z)\n",
        "    return sig\n",
        "\n",
        "\n",
        "x = float(input(\"\"))\n",
        "print(\"Sigmoid(x) =\", sigmoid(x))"
      ]
    },
    {
      "cell_type": "markdown",
      "source": [
        "softmax"
      ],
      "metadata": {
        "id": "4N2kewb4L7OJ"
      }
    },
    {
      "cell_type": "code",
      "source": [
        "import math\n",
        "\n",
        "def softmax(x):\n",
        "    max_x = max(x)\n",
        "    exps = [math.exp(i - max_x) for i in x]\n",
        "    sum_exps = sum(exps)\n",
        "    return [j / sum_exps for j in exps]\n",
        "\n",
        "\n",
        "x = list(map(float, input().split()))\n",
        "print(\"Softmax(x) =\", softmax(x))\n"
      ],
      "metadata": {
        "id": "OX6wFBVrL9QB",
        "colab": {
          "base_uri": "https://localhost:8080/"
        },
        "outputId": "17ed7732-4fa8-4c2b-a78c-d3313a02dd60"
      },
      "execution_count": 1,
      "outputs": [
        {
          "output_type": "stream",
          "name": "stdout",
          "text": [
            "1 2\n",
            "Softmax(x) = [0.2689414213699951, 0.7310585786300049]\n"
          ]
        }
      ]
    },
    {
      "cell_type": "markdown",
      "source": [
        "RELU"
      ],
      "metadata": {
        "id": "kiAO-EMwqycA"
      }
    },
    {
      "cell_type": "code",
      "source": [
        "x = int(input())\n",
        "relu = max(0,x)\n",
        "print(relu)"
      ],
      "metadata": {
        "colab": {
          "base_uri": "https://localhost:8080/"
        },
        "id": "yDuOAQs9qz_u",
        "outputId": "fb8a9dc9-0de9-44f6-9ede-f33457e2ecbb"
      },
      "execution_count": 4,
      "outputs": [
        {
          "output_type": "stream",
          "name": "stdout",
          "text": [
            "234\n",
            "234\n"
          ]
        }
      ]
    }
  ]
}