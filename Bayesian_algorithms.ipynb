{
  "nbformat": 4,
  "nbformat_minor": 0,
  "metadata": {
    "colab": {
      "provenance": []
    },
    "kernelspec": {
      "name": "python3",
      "display_name": "Python 3"
    },
    "language_info": {
      "name": "python"
    }
  },
  "cells": [
    {
      "cell_type": "markdown",
      "source": [
        "$\\[\n",
        "P(A|B) = \\frac{P(B|A) \\cdot P(A)}{P(B)}\\]$\n",
        "\n"
      ],
      "metadata": {
        "id": "T4GXQogCts6-"
      }
    },
    {
      "cell_type": "markdown",
      "source": [
        "**Bayesian Linear Regression**"
      ],
      "metadata": {
        "id": "U2homLrG1MTO"
      }
    },
    {
      "cell_type": "code",
      "execution_count": 1,
      "metadata": {
        "colab": {
          "base_uri": "https://localhost:8080/"
        },
        "id": "3keTKszWtoWb",
        "outputId": "49720b0c-6eba-48a7-9221-aac85b7bfd07"
      },
      "outputs": [
        {
          "output_type": "stream",
          "name": "stdout",
          "text": [
            "Среднеквадратичная ошибка (MSE): 2871.76\n",
            "Коэффициент детерминации (R^2): 0.46\n"
          ]
        }
      ],
      "source": [
        "# Импорт необходимых библиотек\n",
        "from sklearn.datasets import load_diabetes\n",
        "from sklearn.model_selection import train_test_split\n",
        "from sklearn.linear_model import BayesianRidge\n",
        "from sklearn.metrics import mean_squared_error, r2_score\n",
        "\n",
        "# Загрузка набора данных Diabetes\n",
        "diabetes = load_diabetes()\n",
        "X = diabetes.data  # Признаки\n",
        "y = diabetes.target  # Целевая переменная\n",
        "\n",
        "# Разделение данных на обучающую и тестовую выборки\n",
        "X_train, X_test, y_train, y_test = train_test_split(X, y, test_size=0.2, random_state=42)\n",
        "\n",
        "# Создание и обучение модели Байесовской линейной регрессии\n",
        "model = BayesianRidge()\n",
        "model.fit(X_train, y_train)\n",
        "\n",
        "# Предсказание на тестовых данных\n",
        "y_pred = model.predict(X_test)\n",
        "\n",
        "# Оценка качества модели\n",
        "mse = mean_squared_error(y_test, y_pred)\n",
        "r2 = r2_score(y_test, y_pred)\n",
        "print(f\"Среднеквадратичная ошибка (MSE): {mse:.2f}\")\n",
        "print(f\"Коэффициент детерминации (R^2): {r2:.2f}\")"
      ]
    },
    {
      "cell_type": "markdown",
      "source": [
        "**Gaussian Naive Bayes**"
      ],
      "metadata": {
        "id": "LEOvINUI1UpU"
      }
    },
    {
      "cell_type": "code",
      "source": [
        "# Импорт необходимых библиотек\n",
        "from sklearn.datasets import load_iris\n",
        "from sklearn.model_selection import train_test_split\n",
        "from sklearn.naive_bayes import GaussianNB\n",
        "from sklearn.metrics import accuracy_score, classification_report\n",
        "\n",
        "# Загрузка набора данных Iris\n",
        "iris = load_iris()\n",
        "X = iris.data  # Признаки\n",
        "y = iris.target  # Целевая переменная\n",
        "\n",
        "# Разделение данных на обучающую и тестовую выборки\n",
        "X_train, X_test, y_train, y_test = train_test_split(X, y, test_size=0.2, random_state=42)\n",
        "\n",
        "# Создание и обучение модели Gaussian Naive Bayes\n",
        "model = GaussianNB()\n",
        "model.fit(X_train, y_train)\n",
        "\n",
        "# Предсказание на тестовых данных\n",
        "y_pred = model.predict(X_test)\n",
        "\n",
        "# Оценка качества модели\n",
        "accuracy = accuracy_score(y_test, y_pred)\n",
        "print(f\"Точность модели: {accuracy:.2f}\")\n",
        "print(\"\\nОтчет о классификации:\")\n",
        "print(classification_report(y_test, y_pred, target_names=iris.target_names))"
      ],
      "metadata": {
        "colab": {
          "base_uri": "https://localhost:8080/"
        },
        "id": "4KhyC-SB1ZQb",
        "outputId": "3638886d-e68a-4ae2-9c45-ea180bb16f7b"
      },
      "execution_count": 2,
      "outputs": [
        {
          "output_type": "stream",
          "name": "stdout",
          "text": [
            "Точность модели: 1.00\n",
            "\n",
            "Отчет о классификации:\n",
            "              precision    recall  f1-score   support\n",
            "\n",
            "      setosa       1.00      1.00      1.00        10\n",
            "  versicolor       1.00      1.00      1.00         9\n",
            "   virginica       1.00      1.00      1.00        11\n",
            "\n",
            "    accuracy                           1.00        30\n",
            "   macro avg       1.00      1.00      1.00        30\n",
            "weighted avg       1.00      1.00      1.00        30\n",
            "\n"
          ]
        }
      ]
    },
    {
      "cell_type": "markdown",
      "source": [
        "**Bayesian Logistic Regression**"
      ],
      "metadata": {
        "id": "KghtqRzc1a0E"
      }
    },
    {
      "cell_type": "code",
      "source": [
        "# Импорт необходимых библиотек\n",
        "from sklearn.datasets import load_iris\n",
        "from sklearn.model_selection import train_test_split\n",
        "from sklearn.linear_model import LogisticRegression\n",
        "from sklearn.metrics import accuracy_score, classification_report\n",
        "\n",
        "# Загрузка набора данных Iris\n",
        "iris = load_iris()\n",
        "X = iris.data  # Признаки\n",
        "y = iris.target  # Целевая переменная\n",
        "\n",
        "# Разделение данных на обучающую и тестовую выборки\n",
        "X_train, X_test, y_train, y_test = train_test_split(X, y, test_size=0.2, random_state=42)\n",
        "\n",
        "# Создание и обучение модели Байесовской логистической регрессии\n",
        "model = LogisticRegression(solver='lbfgs', multi_class='auto', max_iter=200)\n",
        "model.fit(X_train, y_train)\n",
        "\n",
        "# Предсказание на тестовых данных\n",
        "y_pred = model.predict(X_test)\n",
        "\n",
        "# Оценка качества модели\n",
        "accuracy = accuracy_score(y_test, y_pred)\n",
        "print(f\"Точность модели: {accuracy:.2f}\")\n",
        "print(\"\\nОтчет о классификации:\")\n",
        "print(classification_report(y_test, y_pred, target_names=iris.target_names))"
      ],
      "metadata": {
        "colab": {
          "base_uri": "https://localhost:8080/"
        },
        "id": "LGNRaiTW2Ses",
        "outputId": "92d0c40d-5f28-48ec-8f76-f73ca5dcba43"
      },
      "execution_count": 3,
      "outputs": [
        {
          "output_type": "stream",
          "name": "stdout",
          "text": [
            "Точность модели: 1.00\n",
            "\n",
            "Отчет о классификации:\n",
            "              precision    recall  f1-score   support\n",
            "\n",
            "      setosa       1.00      1.00      1.00        10\n",
            "  versicolor       1.00      1.00      1.00         9\n",
            "   virginica       1.00      1.00      1.00        11\n",
            "\n",
            "    accuracy                           1.00        30\n",
            "   macro avg       1.00      1.00      1.00        30\n",
            "weighted avg       1.00      1.00      1.00        30\n",
            "\n"
          ]
        },
        {
          "output_type": "stream",
          "name": "stderr",
          "text": [
            "/usr/local/lib/python3.11/dist-packages/sklearn/linear_model/_logistic.py:1247: FutureWarning: 'multi_class' was deprecated in version 1.5 and will be removed in 1.7. From then on, it will always use 'multinomial'. Leave it to its default value to avoid this warning.\n",
            "  warnings.warn(\n"
          ]
        }
      ]
    },
    {
      "cell_type": "markdown",
      "source": [
        "**Multinomial Naive Bayes**"
      ],
      "metadata": {
        "id": "0EpsKQ4c2Uw0"
      }
    },
    {
      "cell_type": "code",
      "source": [
        "# Импорт необходимых библиотек\n",
        "from sklearn.datasets import fetch_20newsgroups\n",
        "from sklearn.feature_extraction.text import TfidfVectorizer\n",
        "from sklearn.naive_bayes import MultinomialNB\n",
        "from sklearn.metrics import accuracy_score, classification_report\n",
        "from sklearn.model_selection import train_test_split\n",
        "\n",
        "# Загрузка набора данных 20 Newsgroups\n",
        "categories = ['alt.atheism', 'soc.religion.christian', 'comp.graphics', 'sci.med']\n",
        "newsgroups = fetch_20newsgroups(subset='all', categories=categories)\n",
        "\n",
        "# Преобразование текста в числовые признаки\n",
        "vectorizer = TfidfVectorizer()\n",
        "X = vectorizer.fit_transform(newsgroups.data)\n",
        "y = newsgroups.target\n",
        "\n",
        "# Разделение данных на обучающую и тестовую выборки\n",
        "X_train, X_test, y_train, y_test = train_test_split(X, y, test_size=0.2, random_state=42)\n",
        "\n",
        "# Создание и обучение модели Multinomial Naive Bayes\n",
        "model = MultinomialNB()\n",
        "model.fit(X_train, y_train)\n",
        "\n",
        "# Предсказание на тестовых данных\n",
        "y_pred = model.predict(X_test)\n",
        "\n",
        "# Оценка качества модели\n",
        "accuracy = accuracy_score(y_test, y_pred)\n",
        "print(f\"Точность модели: {accuracy:.2f}\")\n",
        "print(\"\\nОтчет о классификации:\")\n",
        "print(classification_report(y_test, y_pred, target_names=newsgroups.target_names))"
      ],
      "metadata": {
        "colab": {
          "base_uri": "https://localhost:8080/"
        },
        "id": "x9n6souW2XG0",
        "outputId": "6a4ae6e5-fd5a-4572-a4ef-70d3d72ae564"
      },
      "execution_count": 4,
      "outputs": [
        {
          "output_type": "stream",
          "name": "stdout",
          "text": [
            "Точность модели: 0.90\n",
            "\n",
            "Отчет о классификации:\n",
            "                        precision    recall  f1-score   support\n",
            "\n",
            "           alt.atheism       1.00      0.74      0.85       175\n",
            "         comp.graphics       0.98      0.94      0.96       200\n",
            "               sci.med       0.99      0.91      0.95       200\n",
            "soc.religion.christian       0.71      0.99      0.82       177\n",
            "\n",
            "              accuracy                           0.90       752\n",
            "             macro avg       0.92      0.90      0.90       752\n",
            "          weighted avg       0.93      0.90      0.90       752\n",
            "\n"
          ]
        }
      ]
    },
    {
      "cell_type": "markdown",
      "source": [
        "**VB-K-means (Variational Bayesian K-means)**"
      ],
      "metadata": {
        "id": "9C86tT8I2ZMr"
      }
    },
    {
      "cell_type": "code",
      "source": [
        "# Импорт необходимых библиотек\n",
        "from sklearn.datasets import load_iris\n",
        "from sklearn.cluster import KMeans\n",
        "from sklearn.metrics import silhouette_score\n",
        "\n",
        "# Загрузка набора данных Iris\n",
        "iris = load_iris()\n",
        "X = iris.data  # Признаки\n",
        "\n",
        "# Создание и обучение модели K-means\n",
        "model = KMeans(n_clusters=3, random_state=42)\n",
        "model.fit(X)\n",
        "\n",
        "# Предсказание кластеров\n",
        "y_pred = model.labels_\n",
        "\n",
        "# Оценка качества кластеризации\n",
        "silhouette = silhouette_score(X, y_pred)\n",
        "print(f\"Силуэтный коэффициент: {silhouette:.2f}\")"
      ],
      "metadata": {
        "colab": {
          "base_uri": "https://localhost:8080/"
        },
        "id": "-YXYQCUB2c7l",
        "outputId": "7e383506-09a8-40da-fe6e-099467fb83d8"
      },
      "execution_count": 5,
      "outputs": [
        {
          "output_type": "stream",
          "name": "stdout",
          "text": [
            "Силуэтный коэффициент: 0.55\n"
          ]
        }
      ]
    },
    {
      "cell_type": "markdown",
      "source": [
        "**Dirichlet Process Mixture Models (DPMM)**"
      ],
      "metadata": {
        "id": "oQKODDO42eXE"
      }
    },
    {
      "cell_type": "code",
      "source": [
        "# Импорт необходимых библиотек\n",
        "from sklearn.datasets import load_iris\n",
        "from sklearn.mixture import BayesianGaussianMixture\n",
        "from sklearn.metrics import silhouette_score\n",
        "\n",
        "# Загрузка набора данных Iris\n",
        "iris = load_iris()\n",
        "X = iris.data  # Признаки\n",
        "\n",
        "# Создание и обучение модели DPMM\n",
        "model = BayesianGaussianMixture(n_components=3, random_state=42)\n",
        "model.fit(X)\n",
        "\n",
        "# Предсказание кластеров\n",
        "y_pred = model.predict(X)\n",
        "\n",
        "# Оценка качества кластеризации\n",
        "silhouette = silhouette_score(X, y_pred)\n",
        "print(f\"Силуэтный коэффициент: {silhouette:.2f}\")"
      ],
      "metadata": {
        "colab": {
          "base_uri": "https://localhost:8080/"
        },
        "id": "T0l3OEVv2g-8",
        "outputId": "72cc6e39-98be-496d-af24-ea30a2d7baa7"
      },
      "execution_count": 6,
      "outputs": [
        {
          "output_type": "stream",
          "name": "stdout",
          "text": [
            "Силуэтный коэффициент: 0.37\n"
          ]
        }
      ]
    },
    {
      "cell_type": "markdown",
      "source": [
        "**Variational Bayesian Gaussian Mixture Model (VB-GMM)**"
      ],
      "metadata": {
        "id": "0YwwfqTt2m0D"
      }
    },
    {
      "cell_type": "code",
      "source": [
        "# Импорт необходимых библиотек\n",
        "from sklearn.datasets import load_iris\n",
        "from sklearn.mixture import BayesianGaussianMixture\n",
        "from sklearn.metrics import silhouette_score\n",
        "\n",
        "# Загрузка набора данных Iris\n",
        "iris = load_iris()\n",
        "X = iris.data  # Признаки\n",
        "\n",
        "# Создание и обучение модели VB-GMM\n",
        "model = BayesianGaussianMixture(n_components=3, random_state=42)\n",
        "model.fit(X)\n",
        "\n",
        "# Предсказание кластеров\n",
        "y_pred = model.predict(X)\n",
        "\n",
        "# Оценка качества кластеризации\n",
        "silhouette = silhouette_score(X, y_pred)\n",
        "print(f\"Силуэтный коэффициент: {silhouette:.2f}\")"
      ],
      "metadata": {
        "colab": {
          "base_uri": "https://localhost:8080/"
        },
        "id": "t4efM-vu2p-r",
        "outputId": "d5bdee0e-d18e-4558-b2c4-8b1586b72eff"
      },
      "execution_count": 7,
      "outputs": [
        {
          "output_type": "stream",
          "name": "stdout",
          "text": [
            "Силуэтный коэффициент: 0.37\n"
          ]
        }
      ]
    }
  ]
}